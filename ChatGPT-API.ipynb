{
  "nbformat": 4,
  "nbformat_minor": 0,
  "metadata": {
    "colab": {
      "provenance": []
    },
    "kernelspec": {
      "name": "python3",
      "display_name": "Python 3"
    },
    "language_info": {
      "name": "python"
    }
  },
  "cells": [
    {
      "cell_type": "code",
      "execution_count": null,
      "metadata": {
        "id": "IbWO6-5CbHqL"
      },
      "outputs": [],
      "source": [
        "print('Hello World')"
      ]
    },
    {
      "cell_type": "code",
      "source": [
        "!pip install openai"
      ],
      "metadata": {
        "id": "n-1Um7Cyb2zL"
      },
      "execution_count": null,
      "outputs": []
    },
    {
      "cell_type": "code",
      "source": [
        "import openai\n",
        "\n",
        "# Set your OpenAI API key\n",
        "api_key = 'aaaaaaaaaaaaaaaaaaaaa put your api key here aaaaaaaaaaaaaaaaaaaaaaaaa'\n",
        "\n",
        "def ask_gpt3(prompt):\n",
        "    client = openai.OpenAI(api_key=api_key)\n",
        "    response = client.chat.completions.create(\n",
        "        model=\"gpt-3.5-turbo\",  # Specify the model you want to use\n",
        "        messages=[\n",
        "            {\"role\": \"system\", \"content\": \"You are a helpful assistant. must response in thai\"},\n",
        "            {\"role\": \"user\", \"content\": prompt}\n",
        "        ]\n",
        "    )\n",
        "    return response.choices[0].message\n",
        "\n",
        "# Example usage\n",
        "prompt = \"อยากไปเที่ยวสิงคโปร์ ช่วยแนะนำสถานที่เที่ยว 3 วัน\"\n",
        "response = ask_gpt3(prompt)\n",
        "print(response)\n"
      ],
      "metadata": {
        "colab": {
          "base_uri": "https://localhost:8080/"
        },
        "id": "3wcDi_cueOCv",
        "outputId": "439c7210-24dd-4f0f-9292-08ed6560314c"
      },
      "execution_count": 5,
      "outputs": [
        {
          "output_type": "stream",
          "name": "stdout",
          "text": [
            "ChatCompletionMessage(content='วันที่ 1: คุณสามารถเริ่มต้นทริปด้วยการเยี่ยมชมสวนสาธารณะสำหรับการพักผ่อนอย่างสงบเช่น Gardens by the Bay และ Marina Bay Sands ซึ่งเป็นสถานที่ท่องเที่ยวยอดนิยมของสิงคโปร์\\n\\nวันที่ 2: คุณสามารถเดินชมเมืองเก่าของสิงคโปร์ได้ที่สถานีอิทมิไดโจ และช้อปปิ้งที่ Orchard Road ที่ทรีสคองชอปบิงและ ION Orchard ซึ่งเป็นท้องถิ่นของร้านค้าและร้านอาหารที่ยอดเยี่ยม\\n\\nวันที่ 3: สามารถเยี่ยมชมสวนสัตว์สิงคโปร์ที่มีความหลากหลายและน่าสนใจ ซึ่งมีสัตว์เลี้ยงจำพวกเมืองอย่าง Singapore Zoo และ Night Safari ที่จะช่วยให้ประสบการณ์การเดินทางของคุณเป็นที่จำคัญและน่าจดจำได้อย่างไม่สิ้นสุด\\n\\nหวังว่าคำแนะนำนี้จะช่วยให้ทริปเที่ยวสิงคโปร์ของคุณเป็นที่จดจำไปตลอดชีวิตครับ/ค่ะ!', role='assistant', function_call=None, tool_calls=None)\n"
          ]
        }
      ]
    }
  ]
}